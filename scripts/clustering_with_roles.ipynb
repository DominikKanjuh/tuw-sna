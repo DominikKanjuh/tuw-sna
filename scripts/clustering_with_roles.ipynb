{
 "cells": [
  {
   "cell_type": "markdown",
   "metadata": {},
   "source": [
    "# Clustering visualizer using predefined roles and features configuration"
   ]
  },
  {
   "cell_type": "markdown",
   "metadata": {},
   "source": [
    "## Importing libraries"
   ]
  },
  {
   "cell_type": "code",
   "execution_count": 318,
   "metadata": {},
   "outputs": [],
   "source": [
    "import pandas as pd\n",
    "import matplotlib.pyplot as plt\n",
    "\n",
    "from scipy.cluster.hierarchy import linkage, fcluster\n",
    "from sklearn.metrics import adjusted_rand_score, normalized_mutual_info_score\n",
    "from sklearn.decomposition import PCA\n",
    "from mpl_toolkits.mplot3d import Axes3D\n",
    "from collections import Counter"
   ]
  },
  {
   "cell_type": "markdown",
   "metadata": {},
   "source": [
    "## Importing the datasets"
   ]
  },
  {
   "cell_type": "code",
   "execution_count": 319,
   "metadata": {},
   "outputs": [],
   "source": [
    "data_path = \"../data/\"\n",
    "\n",
    "clear_scaled_data_path = data_path + \"clear_scaled_data.csv\"\n",
    "clear_data_path = data_path + \"clear_data.csv\"\n",
    "data_with_nan_path = data_path + \"data_with_nan.csv\"\n",
    "scaled_data_with_nan_path = data_path + \"scaled_data_with_nan.csv\"\n",
    "\n",
    "clear_scaled_data = pd.read_csv(clear_scaled_data_path)\n",
    "clear_data = pd.read_csv(clear_data_path)\n",
    "data_with_nan = pd.read_csv(data_with_nan_path)\n",
    "scaled_data_with_nan = pd.read_csv(scaled_data_with_nan_path)"
   ]
  },
  {
   "cell_type": "markdown",
   "metadata": {},
   "source": [
    "## Define role and feature configuration"
   ]
  },
  {
   "cell_type": "code",
   "execution_count": 320,
   "metadata": {},
   "outputs": [],
   "source": [
    "role_config = [\n",
    "    {\n",
    "        \"name\": \"Engaged Participant\",\n",
    "        \"conditions\": {\n",
    "            \"VotePositive\": [0.34, None],\n",
    "            \"VoteNegative\": [0.32, None],\n",
    "            \"ReceivedNegative\": [0.33, None],\n",
    "            \"ReceivedPositive\": [0.37, None],\n",
    "            \"clicks_in_last_90_articles\": [-0.25, 0.34]\n",
    "        }\n",
    "    },\n",
    "    {\n",
    "        \"name\": \"Opinion Leader\",\n",
    "        \"conditions\": {\n",
    "            \"VotePositive\": [0.34, None],\n",
    "            \"VoteNegative\": [0.34, None],\n",
    "            \"ActivityCentrality\": [0.46, None],\n",
    "            \"ReceivedPositive\": [0.37, None],\n",
    "            \"GotFollowers\": [0, 0.17],\n",
    "            \"TopicsDiversity\": [None, -0.82]\n",
    "        }\n",
    "    },\n",
    "    {\n",
    "        \"name\": \"Taciturns\",\n",
    "        \"conditions\": {\n",
    "            \"PostsAmount\": [None, -0.09],\n",
    "            \"VotePositive\": [None, -0.12],\n",
    "            \"VoteNegative\": [None, -0.11],\n",
    "            \"clicks_in_last_90_articles\": [None, -0.25],\n",
    "            \"ActivityCentrality\": [None, -0.25]\n",
    "        }\n",
    "    },\n",
    "    {\n",
    "        \"name\": \"Provokers\",\n",
    "        \"conditions\": {\n",
    "            \"PostsAmount\": [0.27, None],\n",
    "            \"PostReplied\": [0.34, None],\n",
    "            \"ReceivedPositive\": [0.37, None],\n",
    "            \"ReceivedNegative\": [0.33, None],\n",
    "            \"GotPostReplied\": [0.36, None],\n",
    "            \"TopicsDiversity\": [None, -0.82]\n",
    "        }\n",
    "    },\n",
    "    {\n",
    "        \"name\": \"Flamers\",\n",
    "        \"conditions\": {\n",
    "            \"ReceivedNegative\": [0.33, None],\n",
    "            \"GotPostReplied\": [0.36, None],\n",
    "            \"ReceivedPositive\": [-0.13, 0.37],\n",
    "            \"TopicsDiversity\": [None, -0.82]\n",
    "        }\n",
    "    },\n",
    "    {\n",
    "        \"name\": \"Connector\",\n",
    "        \"conditions\": {\n",
    "            \"ActivityCentrality\": [0.46, None],\n",
    "            \"ReceivedPositive\": [0.37, None],\n",
    "            \"VotePositive\": [0.34, None],\n",
    "            \"VoteNegative\": [0.32, None],\n",
    "            \"TopicsPostedIn\": [0.37, None]\n",
    "        }\n",
    "    },\n",
    "    {\n",
    "        \"name\": \"Discussion Leader\",\n",
    "        \"conditions\": {\n",
    "            \"PostsAmount\": [0.27, None],\n",
    "            \"PostReplied\": [0.34, None],\n",
    "            \"ReceivedPositive\": [0.37, None],\n",
    "            \"ReceivedNegative\": [0.33, None]\n",
    "        }\n",
    "    },\n",
    "    {\n",
    "        \"name\": \"Silent Voter\",\n",
    "        \"conditions\": {\n",
    "            \"VotePositive\": [0.34, None],\n",
    "            \"VoteNegative\": [0.32, None],\n",
    "            \"PostsAmount\": [None, -0.09],\n",
    "            \"ReceivedNegative\": [None, 0.11],\n",
    "            \"ReceivedPositive\": [None, 0.13]\n",
    "        }\n",
    "    }\n",
    "]\n"
   ]
  },
  {
   "cell_type": "code",
   "execution_count": 321,
   "metadata": {},
   "outputs": [],
   "source": [
    "def evaluate_conditions(row, conditions):\n",
    "    for feature, (min_val, max_val) in conditions.items():\n",
    "        if min_val is not None and row[feature] < min_val:\n",
    "            return False\n",
    "        if max_val is not None and row[feature] > max_val:\n",
    "            return False\n",
    "    return True\n",
    "\n",
    "def assign_role(row, role_config):\n",
    "    for role in role_config:\n",
    "        if evaluate_conditions(row, role[\"conditions\"]):\n",
    "            return role[\"name\"]\n",
    "    return \"Uncategorized\"\n",
    "\n",
    "def assign_roles(data, role_config):\n",
    "    data['Role'] = data.apply(assign_role, axis=1, args=(role_config,))\n",
    "    return data\n",
    "\n",
    "def perform_clustering(data, distance_threshold):\n",
    "    linked = linkage(data.iloc[:, 1:-1], method='ward')  # remove userId and role cols\n",
    "    cluster_labels = fcluster(linked, t=distance_threshold, criterion='distance')\n",
    "    data['Cluster'] = cluster_labels\n",
    "    return data\n",
    "\n",
    "def assign_roles_only(data, role_config):\n",
    "    data = assign_roles(data, role_config)\n",
    "    return data\n",
    "\n",
    "def cluster_only(data, distance_threshold=5):\n",
    "    data = perform_clustering(data, distance_threshold)\n",
    "    return data"
   ]
  },
  {
   "cell_type": "markdown",
   "metadata": {},
   "source": [
    "## Assign roles/features and do the clustering "
   ]
  },
  {
   "cell_type": "code",
   "execution_count": 322,
   "metadata": {},
   "outputs": [],
   "source": [
    "data = assign_roles_only(clear_scaled_data, role_config)\n",
    "data = cluster_only(data, 35)"
   ]
  },
  {
   "cell_type": "markdown",
   "metadata": {},
   "source": [
    "## Information after the process"
   ]
  },
  {
   "cell_type": "code",
   "execution_count": null,
   "metadata": {},
   "outputs": [],
   "source": [
    "def get_role_count(data):\n",
    "    role_counts = Counter()\n",
    "    for _ , row in data.iterrows():\n",
    "        roles = row['Role'].split(\" / \") if \" / \" in row['Role'] else [row['Role']]\n",
    "        for role in roles:\n",
    "            role_counts[role] += 1\n",
    "        if len(roles) > 1:\n",
    "            combined_role = \" / \".join(sorted(roles))\n",
    "            role_counts[combined_role] += 1\n",
    "    return role_counts\n",
    "\n",
    "def get_cluster_count(data):\n",
    "    cluster_counts = Counter()\n",
    "    for _, row in data.iterrows():\n",
    "        cluster = row[\"Cluster\"]\n",
    "        cluster_counts[cluster] += 1\n",
    "    return cluster_counts\n",
    "\n",
    "\n",
    "category_counts = get_role_count(data)\n",
    "cluster_counts = get_cluster_count(data)\n",
    "\n",
    "print(f\"Total number of users: {len(data)}\\n\")\n",
    "print(f\"Total number of roles: {len(category_counts)}\\n\")\n",
    "print(\"Number of users per role:\")\n",
    "for role, count in category_counts.items():\n",
    "    print(f\"    {role}: {count}\")\n",
    "\n",
    "print(\"\\n=========================\\n\")\n",
    "\n",
    "print(f\"Total number of clusters: {len(cluster_counts)}\\n\")\n",
    "print(\"Number of users per cluster:\")\n",
    "for cluster, count in cluster_counts.items():\n",
    "    print(f\"    Cluster {cluster}: {count}\")"
   ]
  },
  {
   "cell_type": "markdown",
   "metadata": {},
   "source": [
    "## Compare the results of the clustering with the predefined roles"
   ]
  },
  {
   "cell_type": "code",
   "execution_count": null,
   "metadata": {},
   "outputs": [],
   "source": [
    "def compare_clustering_vs_roles(data):\n",
    "    role_labels = data['Role']\n",
    "    cluster_labels = data['Cluster']\n",
    "\n",
    "    ari_score = adjusted_rand_score(role_labels, cluster_labels)\n",
    "    nmi_score = normalized_mutual_info_score(role_labels, cluster_labels)\n",
    "\n",
    "    print(f\"Adjusted Rand Index (ARI): {ari_score:.4f}\")\n",
    "    print(f\"Normalized Mutual Information (NMI): {nmi_score:.4f}\")\n",
    "\n",
    "compare_clustering_vs_roles(data)"
   ]
  },
  {
   "cell_type": "code",
   "execution_count": null,
   "metadata": {},
   "outputs": [],
   "source": [
    "def get_role_cluster_overlap(data):\n",
    "    overlap_counts = data.copy().groupby(['Role', 'Cluster']).size().reset_index(name='Count')\n",
    "    return overlap_counts\n",
    "\n",
    "overlap_counts = get_role_cluster_overlap(data)\n",
    "\n",
    "dominant_clusters = overlap_counts.loc[overlap_counts.groupby('Role')['Count'].idxmax()].sort_values(by=\"Count\", ascending=False).reset_index(drop=True)\n",
    "print(dominant_clusters.to_string(index=False))"
   ]
  },
  {
   "cell_type": "markdown",
   "metadata": {},
   "source": [
    "## Plotting the roles in 2D"
   ]
  },
  {
   "cell_type": "code",
   "execution_count": 326,
   "metadata": {},
   "outputs": [],
   "source": [
    "def visualize_roles_2D(data):\n",
    "    data = data.copy()\n",
    "    pca = PCA(n_components=2)\n",
    "    reduced_data = pca.fit_transform(data.iloc[:, 1:-2])  # Exclude userId, role and cluster cols\n",
    "    data['PCA1'] = reduced_data[:, 0]\n",
    "    data['PCA2'] = reduced_data[:, 1]\n",
    "\n",
    "    plt.figure(figsize=(10, 7))\n",
    "    for role in data['Role'].unique():\n",
    "        role_data = data[data['Role'] == role]\n",
    "        plt.scatter(role_data['PCA1'], role_data['PCA2'], label=f'Role {role}', alpha=0.7)\n",
    "    plt.title('Roles in 2D PCA space ')\n",
    "    plt.xlabel('PCA1')\n",
    "    plt.ylabel('PCA2')\n",
    "    plt.legend()\n",
    "    plt.show()"
   ]
  },
  {
   "cell_type": "markdown",
   "metadata": {},
   "source": [
    "## Plotting the roles in 3D"
   ]
  },
  {
   "cell_type": "code",
   "execution_count": 327,
   "metadata": {},
   "outputs": [],
   "source": [
    "def visualize_roles_3D(data):\n",
    "    data = data.copy()\n",
    "    numeric_columns = data.select_dtypes(include=['float64', 'int64']).columns\n",
    "    pca_3d = PCA(n_components=3)\n",
    "    reduced_data_3d = pca_3d.fit_transform(data[numeric_columns])  # only numeric cols\n",
    "\n",
    "    data['PCA1'] = reduced_data_3d[:, 0]\n",
    "    data['PCA2'] = reduced_data_3d[:, 1]\n",
    "    data['PCA3'] = reduced_data_3d[:, 2]\n",
    "\n",
    "    fig = plt.figure(figsize=(18, 12))\n",
    "    ax = fig.add_subplot(111, projection='3d')\n",
    "    for role in data['Role'].unique():\n",
    "        role_data = data[data['Role'] == role]\n",
    "        ax.scatter(role_data['PCA1'], role_data['PCA2'], role_data['PCA3'], label=f'Role {role}', alpha=0.7)\n",
    "    ax.set_title('Roles in 3D PCA space')\n",
    "    ax.set_xlabel('PCA1')\n",
    "    ax.set_ylabel('PCA2')\n",
    "    ax.set_zlabel('PCA3')\n",
    "    ax.legend()\n",
    "    ax.set_box_aspect([1, 1, 1])\n",
    "    plt.show()\n"
   ]
  },
  {
   "cell_type": "markdown",
   "metadata": {},
   "source": [
    "## Plotting the clusters in 2D"
   ]
  },
  {
   "cell_type": "code",
   "execution_count": 328,
   "metadata": {},
   "outputs": [],
   "source": [
    "def visualize_clusters_2D(data):\n",
    "    data = data.copy()\n",
    "    pca = PCA(n_components=2)\n",
    "    reduced_data = pca.fit_transform(data.iloc[:, 1:-2])  # remove userId, role  and cluster\n",
    "    data[\"PCA1\"], data[\"PCA2\"] = reduced_data[:, 0], reduced_data[:, 1]\n",
    "\n",
    "    plt.figure(figsize=(10, 7))\n",
    "    for cluster in data[\"Cluster\"].unique():\n",
    "        cluster_data = data[data[\"Cluster\"] == cluster]\n",
    "        plt.scatter(\n",
    "            cluster_data[\"PCA1\"],\n",
    "            cluster_data[\"PCA2\"],\n",
    "            label=f\"Cluster {cluster}\" if cluster <= 20 else None,\n",
    "            alpha=0.7,\n",
    "        )\n",
    "    plt.title(\"Clusters in 2D PCA space\")\n",
    "    plt.xlabel(\"PCA1\")\n",
    "    plt.ylabel(\"PCA2\")\n",
    "    plt.legend()\n",
    "    plt.show()\n"
   ]
  },
  {
   "cell_type": "markdown",
   "metadata": {},
   "source": [
    "## Plottin the clusters in 3D"
   ]
  },
  {
   "cell_type": "code",
   "execution_count": 329,
   "metadata": {},
   "outputs": [],
   "source": [
    "def visualize_clusters_3D(data):\n",
    "    data = data.copy()\n",
    "    numeric_columns = data.select_dtypes(include=[\"float64\", \"int64\"]).columns\n",
    "    pca_3d = PCA(n_components=3)\n",
    "    reduced_data_3d = pca_3d.fit_transform(data[numeric_columns])  # Only numeric cols\n",
    "\n",
    "    data[\"PCA1\"], data[\"PCA2\"], data[\"PCA3\"] = (\n",
    "        reduced_data_3d[:, 0],\n",
    "        reduced_data_3d[:, 1],\n",
    "        reduced_data_3d[:, 2],\n",
    "    )\n",
    "\n",
    "    fig = plt.figure(figsize=(18, 12))\n",
    "    ax = fig.add_subplot(111, projection=\"3d\")\n",
    "    for cluster in data[\"Cluster\"].unique():\n",
    "        cluster_data = data[data[\"Cluster\"] == cluster]\n",
    "        ax.scatter(\n",
    "            cluster_data[\"PCA1\"],\n",
    "            cluster_data[\"PCA2\"],\n",
    "            cluster_data[\"PCA3\"],\n",
    "            label=f\"Cluster {cluster}\" if cluster <= 20 else None,\n",
    "            alpha=0.7,\n",
    "        )\n",
    "    ax.set_title(\"Clusters in 3D PCA space\")\n",
    "    ax.set_xlabel(\"PCA1\")\n",
    "    ax.set_ylabel(\"PCA2\")\n",
    "    ax.set_zlabel(\"PCA3\")\n",
    "    ax.legend()\n",
    "    ax.set_box_aspect([1, 1, 1])\n",
    "    plt.show()\n"
   ]
  },
  {
   "cell_type": "markdown",
   "metadata": {},
   "source": [
    "## Visualize the results"
   ]
  },
  {
   "cell_type": "code",
   "execution_count": null,
   "metadata": {},
   "outputs": [],
   "source": [
    "visualize_roles_2D(data)\n",
    "visualize_roles_3D(data)\n",
    "visualize_clusters_2D(data)\n",
    "visualize_clusters_3D(data)"
   ]
  }
 ],
 "metadata": {
  "kernelspec": {
   "display_name": "data_science",
   "language": "python",
   "name": "python3"
  },
  "language_info": {
   "codemirror_mode": {
    "name": "ipython",
    "version": 3
   },
   "file_extension": ".py",
   "mimetype": "text/x-python",
   "name": "python",
   "nbconvert_exporter": "python",
   "pygments_lexer": "ipython3",
   "version": "3.11.8"
  }
 },
 "nbformat": 4,
 "nbformat_minor": 2
}
