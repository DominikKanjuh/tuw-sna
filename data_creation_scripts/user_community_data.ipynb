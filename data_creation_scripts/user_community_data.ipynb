{
 "cells": [
  {
   "cell_type": "code",
   "execution_count": 40,
   "id": "3930f8d9-19dc-467f-89b0-61edc0930fb2",
   "metadata": {},
   "outputs": [],
   "source": [
    "import pandas as pd"
   ]
  },
  {
   "cell_type": "code",
   "execution_count": 41,
   "id": "f2172e14-23db-469e-b4d6-7e02c58ebdf2",
   "metadata": {},
   "outputs": [
    {
     "data": {
      "text/html": [
       "<div>\n",
       "<style scoped>\n",
       "    .dataframe tbody tr th:only-of-type {\n",
       "        vertical-align: middle;\n",
       "    }\n",
       "\n",
       "    .dataframe tbody tr th {\n",
       "        vertical-align: top;\n",
       "    }\n",
       "\n",
       "    .dataframe thead th {\n",
       "        text-align: right;\n",
       "    }\n",
       "</style>\n",
       "<table border=\"1\" class=\"dataframe\">\n",
       "  <thead>\n",
       "    <tr style=\"text-align: right;\">\n",
       "      <th></th>\n",
       "      <th>ID_GodotObject_c</th>\n",
       "      <th>ObjectType_c</th>\n",
       "      <th>source_c</th>\n",
       "      <th>sourceCategory_c</th>\n",
       "      <th>Channel_c</th>\n",
       "      <th>Produkt_c</th>\n",
       "      <th>ChannelTopRessort_c</th>\n",
       "      <th>RessortName_c</th>\n",
       "    </tr>\n",
       "  </thead>\n",
       "  <tbody>\n",
       "    <tr>\n",
       "      <th>0</th>\n",
       "      <td>2000017551570</td>\n",
       "      <td>Artikel</td>\n",
       "      <td>AutorIn</td>\n",
       "      <td>Online only</td>\n",
       "      <td>Panorama</td>\n",
       "      <td>Redaktion</td>\n",
       "      <td>Gesellschaft</td>\n",
       "      <td>Religion</td>\n",
       "    </tr>\n",
       "    <tr>\n",
       "      <th>1</th>\n",
       "      <td>2000042916576</td>\n",
       "      <td>Artikel</td>\n",
       "      <td>Zeitung</td>\n",
       "      <td>Zeitung</td>\n",
       "      <td>Gesundheit</td>\n",
       "      <td>Redaktion</td>\n",
       "      <td>(Gesundheit)</td>\n",
       "      <td>Cure - das kritische Gesundheitsmagazin</td>\n",
       "    </tr>\n",
       "    <tr>\n",
       "      <th>2</th>\n",
       "      <td>2000043219975</td>\n",
       "      <td>Artikel</td>\n",
       "      <td>Redaktion</td>\n",
       "      <td>Online only</td>\n",
       "      <td>Web</td>\n",
       "      <td>Redaktion</td>\n",
       "      <td>Innovationen</td>\n",
       "      <td>Innovationen</td>\n",
       "    </tr>\n",
       "    <tr>\n",
       "      <th>3</th>\n",
       "      <td>2000044421805</td>\n",
       "      <td>Artikel</td>\n",
       "      <td>AutorIn</td>\n",
       "      <td>Online only</td>\n",
       "      <td>Web</td>\n",
       "      <td>Redaktion</td>\n",
       "      <td>Games</td>\n",
       "      <td>Konsolen</td>\n",
       "    </tr>\n",
       "    <tr>\n",
       "      <th>4</th>\n",
       "      <td>2000045434540</td>\n",
       "      <td>Artikel</td>\n",
       "      <td>Zeitung</td>\n",
       "      <td>Zeitung</td>\n",
       "      <td>Karriere</td>\n",
       "      <td>Redaktion</td>\n",
       "      <td>Leitung &amp; Management</td>\n",
       "      <td>Corporate Social Responsibility</td>\n",
       "    </tr>\n",
       "  </tbody>\n",
       "</table>\n",
       "</div>"
      ],
      "text/plain": [
       "   ID_GodotObject_c ObjectType_c   source_c sourceCategory_c   Channel_c  \\\n",
       "0     2000017551570      Artikel    AutorIn      Online only    Panorama   \n",
       "1     2000042916576      Artikel    Zeitung          Zeitung  Gesundheit   \n",
       "2     2000043219975      Artikel  Redaktion      Online only         Web   \n",
       "3     2000044421805      Artikel    AutorIn      Online only         Web   \n",
       "4     2000045434540      Artikel    Zeitung          Zeitung    Karriere   \n",
       "\n",
       "   Produkt_c   ChannelTopRessort_c                            RessortName_c  \n",
       "0  Redaktion          Gesellschaft                                 Religion  \n",
       "1  Redaktion          (Gesundheit)  Cure - das kritische Gesundheitsmagazin  \n",
       "2  Redaktion          Innovationen                             Innovationen  \n",
       "3  Redaktion                 Games                                 Konsolen  \n",
       "4  Redaktion  Leitung & Management          Corporate Social Responsibility  "
      ]
     },
     "execution_count": 41,
     "metadata": {},
     "output_type": "execute_result"
    }
   ],
   "source": [
    "df1 = pd.read_parquet('Additional_Data/df_ContentPages_filtered_net.parquet')\n",
    "df1.head()"
   ]
  },
  {
   "cell_type": "code",
   "execution_count": 42,
   "id": "1994cb29-2348-4724-989a-01b4496d3f43",
   "metadata": {},
   "outputs": [],
   "source": [
    "df1 = df1[['ID_GodotObject_c','ChannelTopRessort_c']]"
   ]
  },
  {
   "cell_type": "code",
   "execution_count": 43,
   "id": "236bde89-17b9-44c3-9c1d-c4d00c08e565",
   "metadata": {},
   "outputs": [
    {
     "data": {
      "text/html": [
       "<div>\n",
       "<style scoped>\n",
       "    .dataframe tbody tr th:only-of-type {\n",
       "        vertical-align: middle;\n",
       "    }\n",
       "\n",
       "    .dataframe tbody tr th {\n",
       "        vertical-align: top;\n",
       "    }\n",
       "\n",
       "    .dataframe thead th {\n",
       "        text-align: right;\n",
       "    }\n",
       "</style>\n",
       "<table border=\"1\" class=\"dataframe\">\n",
       "  <thead>\n",
       "    <tr style=\"text-align: right;\">\n",
       "      <th></th>\n",
       "      <th>ID_Posting</th>\n",
       "      <th>ID_Posting_Parent</th>\n",
       "      <th>ID_GodotObject</th>\n",
       "      <th>ID_CommunityIdentity</th>\n",
       "      <th>createdAt</th>\n",
       "      <th>Comment_wo_controlchars_len</th>\n",
       "      <th>Headline_wo_controlchars_len</th>\n",
       "    </tr>\n",
       "  </thead>\n",
       "  <tbody>\n",
       "    <tr>\n",
       "      <th>0</th>\n",
       "      <td>1017441133</td>\n",
       "      <td>NaN</td>\n",
       "      <td>2000050076866</td>\n",
       "      <td>572484</td>\n",
       "      <td>2017-01-01 00:50:39.700</td>\n",
       "      <td>63.0</td>\n",
       "      <td>0.0</td>\n",
       "    </tr>\n",
       "    <tr>\n",
       "      <th>1</th>\n",
       "      <td>1017441173</td>\n",
       "      <td>1.017441e+09</td>\n",
       "      <td>2000050076866</td>\n",
       "      <td>521988</td>\n",
       "      <td>2017-01-01 01:01:10.533</td>\n",
       "      <td>54.0</td>\n",
       "      <td>0.0</td>\n",
       "    </tr>\n",
       "    <tr>\n",
       "      <th>2</th>\n",
       "      <td>1017441185</td>\n",
       "      <td>1.017441e+09</td>\n",
       "      <td>2000050076866</td>\n",
       "      <td>225492</td>\n",
       "      <td>2017-01-01 01:06:13.480</td>\n",
       "      <td>19.0</td>\n",
       "      <td>0.0</td>\n",
       "    </tr>\n",
       "    <tr>\n",
       "      <th>3</th>\n",
       "      <td>1017441195</td>\n",
       "      <td>NaN</td>\n",
       "      <td>2000050076866</td>\n",
       "      <td>565184</td>\n",
       "      <td>2017-01-01 01:08:14.700</td>\n",
       "      <td>89.0</td>\n",
       "      <td>0.0</td>\n",
       "    </tr>\n",
       "    <tr>\n",
       "      <th>4</th>\n",
       "      <td>1017441198</td>\n",
       "      <td>1.017441e+09</td>\n",
       "      <td>2000050076866</td>\n",
       "      <td>565184</td>\n",
       "      <td>2017-01-01 01:09:01.690</td>\n",
       "      <td>0.0</td>\n",
       "      <td>33.0</td>\n",
       "    </tr>\n",
       "  </tbody>\n",
       "</table>\n",
       "</div>"
      ],
      "text/plain": [
       "   ID_Posting  ID_Posting_Parent  ID_GodotObject  ID_CommunityIdentity  \\\n",
       "0  1017441133                NaN   2000050076866                572484   \n",
       "1  1017441173       1.017441e+09   2000050076866                521988   \n",
       "2  1017441185       1.017441e+09   2000050076866                225492   \n",
       "3  1017441195                NaN   2000050076866                565184   \n",
       "4  1017441198       1.017441e+09   2000050076866                565184   \n",
       "\n",
       "                createdAt  Comment_wo_controlchars_len  \\\n",
       "0 2017-01-01 00:50:39.700                         63.0   \n",
       "1 2017-01-01 01:01:10.533                         54.0   \n",
       "2 2017-01-01 01:06:13.480                         19.0   \n",
       "3 2017-01-01 01:08:14.700                         89.0   \n",
       "4 2017-01-01 01:09:01.690                          0.0   \n",
       "\n",
       "   Headline_wo_controlchars_len  \n",
       "0                           0.0  \n",
       "1                           0.0  \n",
       "2                           0.0  \n",
       "3                           0.0  \n",
       "4                          33.0  "
      ]
     },
     "execution_count": 43,
     "metadata": {},
     "output_type": "execute_result"
    }
   ],
   "source": [
    "df2 = pd.read_parquet('Additional_Data/df_Postings_filtered_net.parquet')\n",
    "df2.head()"
   ]
  },
  {
   "cell_type": "code",
   "execution_count": 44,
   "id": "cd9384a4-b4f5-4c16-8d55-8d760bee2ae4",
   "metadata": {},
   "outputs": [],
   "source": [
    "df2 = df2[['ID_CommunityIdentity','ID_GodotObject']]"
   ]
  },
  {
   "cell_type": "code",
   "execution_count": 45,
   "id": "d81b7529-fe54-49ed-800a-89c7509ca822",
   "metadata": {},
   "outputs": [],
   "source": [
    "dfj = df2.join(df1.set_index('ID_GodotObject_c'),on='ID_GodotObject')"
   ]
  },
  {
   "cell_type": "code",
   "execution_count": 46,
   "id": "a253e1a4-0dc6-479a-9cb8-464240f8da7e",
   "metadata": {},
   "outputs": [
    {
     "data": {
      "text/html": [
       "<div>\n",
       "<style scoped>\n",
       "    .dataframe tbody tr th:only-of-type {\n",
       "        vertical-align: middle;\n",
       "    }\n",
       "\n",
       "    .dataframe tbody tr th {\n",
       "        vertical-align: top;\n",
       "    }\n",
       "\n",
       "    .dataframe thead th {\n",
       "        text-align: right;\n",
       "    }\n",
       "</style>\n",
       "<table border=\"1\" class=\"dataframe\">\n",
       "  <thead>\n",
       "    <tr style=\"text-align: right;\">\n",
       "      <th></th>\n",
       "      <th>ID_GodotObject</th>\n",
       "      <th>ID_CommunityIdentity</th>\n",
       "    </tr>\n",
       "  </thead>\n",
       "  <tbody>\n",
       "    <tr>\n",
       "      <th>0</th>\n",
       "      <td>2000050076866</td>\n",
       "      <td>28153</td>\n",
       "    </tr>\n",
       "    <tr>\n",
       "      <th>1</th>\n",
       "      <td>2000050076866</td>\n",
       "      <td>215382</td>\n",
       "    </tr>\n",
       "    <tr>\n",
       "      <th>2</th>\n",
       "      <td>2000050076866</td>\n",
       "      <td>600903</td>\n",
       "    </tr>\n",
       "    <tr>\n",
       "      <th>3</th>\n",
       "      <td>2000050076866</td>\n",
       "      <td>128236</td>\n",
       "    </tr>\n",
       "    <tr>\n",
       "      <th>4</th>\n",
       "      <td>2000050076866</td>\n",
       "      <td>235260</td>\n",
       "    </tr>\n",
       "  </tbody>\n",
       "</table>\n",
       "</div>"
      ],
      "text/plain": [
       "   ID_GodotObject  ID_CommunityIdentity\n",
       "0   2000050076866                 28153\n",
       "1   2000050076866                215382\n",
       "2   2000050076866                600903\n",
       "3   2000050076866                128236\n",
       "4   2000050076866                235260"
      ]
     },
     "execution_count": 46,
     "metadata": {},
     "output_type": "execute_result"
    }
   ],
   "source": [
    "df3 = pd.read_parquet('Additional_Data/df_Clicks_net.parquet')\n",
    "df3.head()"
   ]
  },
  {
   "cell_type": "code",
   "execution_count": 47,
   "id": "275bb4cf-d09e-4a3e-94e2-1c6c97ed0fc8",
   "metadata": {},
   "outputs": [],
   "source": [
    "dfj = df3.join(dfj.set_index(['ID_GodotObject','ID_CommunityIdentity']),on=['ID_GodotObject','ID_CommunityIdentity'])"
   ]
  },
  {
   "cell_type": "code",
   "execution_count": 48,
   "id": "d1cdebdc-7734-455b-8c60-4aea0cf2d18f",
   "metadata": {},
   "outputs": [],
   "source": [
    "dfj.columns = [\"BoardID\",'UserID','PostedInTopic']"
   ]
  },
  {
   "cell_type": "code",
   "execution_count": 49,
   "id": "36905de4-fc1c-4f4a-9a2c-784cb1788057",
   "metadata": {},
   "outputs": [],
   "source": [
    "dfj = dfj.join(df1[['ID_GodotObject_c','ChannelTopRessort_c']].set_index('ID_GodotObject_c'),on='BoardID')"
   ]
  },
  {
   "cell_type": "code",
   "execution_count": 50,
   "id": "3058c4a2-0102-41bf-ba8b-1823603a5c46",
   "metadata": {},
   "outputs": [],
   "source": [
    "dfj.loc[ dfj.PostedInTopic == dfj.ChannelTopRessort_c,'PostedInTopic'] = True"
   ]
  },
  {
   "cell_type": "code",
   "execution_count": 51,
   "id": "27c327b2-de94-450d-8ecb-198305127af3",
   "metadata": {},
   "outputs": [
    {
     "data": {
      "text/html": [
       "<div>\n",
       "<style scoped>\n",
       "    .dataframe tbody tr th:only-of-type {\n",
       "        vertical-align: middle;\n",
       "    }\n",
       "\n",
       "    .dataframe tbody tr th {\n",
       "        vertical-align: top;\n",
       "    }\n",
       "\n",
       "    .dataframe thead th {\n",
       "        text-align: right;\n",
       "    }\n",
       "</style>\n",
       "<table border=\"1\" class=\"dataframe\">\n",
       "  <thead>\n",
       "    <tr style=\"text-align: right;\">\n",
       "      <th></th>\n",
       "      <th>BoardID</th>\n",
       "      <th>UserID</th>\n",
       "      <th>PostedInTopic</th>\n",
       "      <th>ChannelTopRessort_c</th>\n",
       "    </tr>\n",
       "  </thead>\n",
       "  <tbody>\n",
       "    <tr>\n",
       "      <th>0</th>\n",
       "      <td>2000050076866</td>\n",
       "      <td>28153</td>\n",
       "      <td>NaN</td>\n",
       "      <td>Europa</td>\n",
       "    </tr>\n",
       "    <tr>\n",
       "      <th>1</th>\n",
       "      <td>2000050076866</td>\n",
       "      <td>215382</td>\n",
       "      <td>NaN</td>\n",
       "      <td>Europa</td>\n",
       "    </tr>\n",
       "    <tr>\n",
       "      <th>2</th>\n",
       "      <td>2000050076866</td>\n",
       "      <td>600903</td>\n",
       "      <td>NaN</td>\n",
       "      <td>Europa</td>\n",
       "    </tr>\n",
       "    <tr>\n",
       "      <th>3</th>\n",
       "      <td>2000050076866</td>\n",
       "      <td>128236</td>\n",
       "      <td>NaN</td>\n",
       "      <td>Europa</td>\n",
       "    </tr>\n",
       "    <tr>\n",
       "      <th>4</th>\n",
       "      <td>2000050076866</td>\n",
       "      <td>235260</td>\n",
       "      <td>NaN</td>\n",
       "      <td>Europa</td>\n",
       "    </tr>\n",
       "  </tbody>\n",
       "</table>\n",
       "</div>"
      ],
      "text/plain": [
       "         BoardID  UserID PostedInTopic ChannelTopRessort_c\n",
       "0  2000050076866   28153           NaN              Europa\n",
       "1  2000050076866  215382           NaN              Europa\n",
       "2  2000050076866  600903           NaN              Europa\n",
       "3  2000050076866  128236           NaN              Europa\n",
       "4  2000050076866  235260           NaN              Europa"
      ]
     },
     "execution_count": 51,
     "metadata": {},
     "output_type": "execute_result"
    }
   ],
   "source": [
    "dfj.head()"
   ]
  },
  {
   "cell_type": "code",
   "execution_count": 77,
   "id": "781504d4-650d-4c19-bb51-7eb2930ac0b9",
   "metadata": {},
   "outputs": [],
   "source": [
    "dfj.columns = ['BoardID','UserID','PostedInTopic','BoardTopic']"
   ]
  },
  {
   "cell_type": "code",
   "execution_count": 78,
   "id": "eca40f3a-424a-49ce-93e2-5d63d6ed28ad",
   "metadata": {},
   "outputs": [],
   "source": [
    "df_amount_of_posts = dfj.loc[dfj.PostedInTopic == True].groupby('UserID').count()['BoardID']\n",
    "df_amount_of_posts = df_amount_of_posts.reset_index()\n",
    "df_amount_of_posts.columns = ['UserID','PostsAmount']"
   ]
  },
  {
   "cell_type": "code",
   "execution_count": 117,
   "id": "51f13d32-22a0-48f8-bd96-80ae92f91e4c",
   "metadata": {},
   "outputs": [],
   "source": [
    "df_amount_of_unique_topics = dfj.loc[dfj.PostedInTopic == True][['UserID','BoardTopic']].groupby('UserID').nunique()\n",
    "df_amount_of_unique_topics = df_amount_of_unique_topics.reset_index()\n",
    "df_amount_of_unique_topics.columns = ['UserID','UniquePostsAmount']"
   ]
  },
  {
   "cell_type": "code",
   "execution_count": 80,
   "id": "04327ddd-0b84-413d-bf3d-68ce4eec6b49",
   "metadata": {},
   "outputs": [],
   "source": [
    "topic_counts = dfj.loc[dfj.PostedInTopic == True].groupby(['UserID','BoardTopic']).size().reset_index(name='count')"
   ]
  },
  {
   "cell_type": "code",
   "execution_count": 99,
   "id": "b1d2b78c-ce01-4d40-b8bb-4f67e2a07900",
   "metadata": {},
   "outputs": [],
   "source": [
    "most_pop_topic_count = topic_counts.loc[topic_counts.groupby('UserID')['count'].idxmax()][['UserID','count']]\n",
    "#most_pop_topic_count = most_pop_topic_count.reset_index()\n",
    "most_pop_topic_count.columns = ['UserID','MostPopPostsTopicAmount']"
   ]
  },
  {
   "cell_type": "code",
   "execution_count": 102,
   "id": "af8ea6c1-6c69-4818-88fd-9282e1f71191",
   "metadata": {},
   "outputs": [
    {
     "data": {
      "text/html": [
       "<div>\n",
       "<style scoped>\n",
       "    .dataframe tbody tr th:only-of-type {\n",
       "        vertical-align: middle;\n",
       "    }\n",
       "\n",
       "    .dataframe tbody tr th {\n",
       "        vertical-align: top;\n",
       "    }\n",
       "\n",
       "    .dataframe thead th {\n",
       "        text-align: right;\n",
       "    }\n",
       "</style>\n",
       "<table border=\"1\" class=\"dataframe\">\n",
       "  <thead>\n",
       "    <tr style=\"text-align: right;\">\n",
       "      <th></th>\n",
       "      <th>UserID</th>\n",
       "      <th>MostPopPostsTopicAmount</th>\n",
       "    </tr>\n",
       "  </thead>\n",
       "  <tbody>\n",
       "    <tr>\n",
       "      <th>18383</th>\n",
       "      <td>28153</td>\n",
       "      <td>2</td>\n",
       "    </tr>\n",
       "  </tbody>\n",
       "</table>\n",
       "</div>"
      ],
      "text/plain": [
       "       UserID  MostPopPostsTopicAmount\n",
       "18383   28153                        2"
      ]
     },
     "execution_count": 102,
     "metadata": {},
     "output_type": "execute_result"
    }
   ],
   "source": [
    "most_pop_topic_count.loc[most_pop_topic_count.UserID == 28153]"
   ]
  },
  {
   "cell_type": "code",
   "execution_count": 137,
   "id": "87ccda50-80ec-407e-ad74-a77fb60b2638",
   "metadata": {},
   "outputs": [],
   "source": [
    "dfjj = dfj.join(df_amount_of_posts.set_index('UserID'), on='UserID').join(df_amount_of_unique_topics.set_index('UserID'), on='UserID').join(most_pop_topic_count.set_index('UserID'), on='UserID')"
   ]
  },
  {
   "cell_type": "code",
   "execution_count": 138,
   "id": "703a3f85-712c-4014-bbea-05570b3c37c1",
   "metadata": {},
   "outputs": [
    {
     "data": {
      "text/html": [
       "<div>\n",
       "<style scoped>\n",
       "    .dataframe tbody tr th:only-of-type {\n",
       "        vertical-align: middle;\n",
       "    }\n",
       "\n",
       "    .dataframe tbody tr th {\n",
       "        vertical-align: top;\n",
       "    }\n",
       "\n",
       "    .dataframe thead th {\n",
       "        text-align: right;\n",
       "    }\n",
       "</style>\n",
       "<table border=\"1\" class=\"dataframe\">\n",
       "  <thead>\n",
       "    <tr style=\"text-align: right;\">\n",
       "      <th></th>\n",
       "      <th>BoardID</th>\n",
       "      <th>UserID</th>\n",
       "      <th>PostedInTopic</th>\n",
       "      <th>BoardTopic</th>\n",
       "      <th>PostsAmount</th>\n",
       "      <th>UniquePostsAmount</th>\n",
       "      <th>MostPopPostsTopicAmount</th>\n",
       "    </tr>\n",
       "  </thead>\n",
       "  <tbody>\n",
       "    <tr>\n",
       "      <th>0</th>\n",
       "      <td>2000050076866</td>\n",
       "      <td>28153</td>\n",
       "      <td>NaN</td>\n",
       "      <td>Europa</td>\n",
       "      <td>4.0</td>\n",
       "      <td>3.0</td>\n",
       "      <td>2.0</td>\n",
       "    </tr>\n",
       "    <tr>\n",
       "      <th>1</th>\n",
       "      <td>2000050076866</td>\n",
       "      <td>215382</td>\n",
       "      <td>NaN</td>\n",
       "      <td>Europa</td>\n",
       "      <td>597.0</td>\n",
       "      <td>58.0</td>\n",
       "      <td>183.0</td>\n",
       "    </tr>\n",
       "    <tr>\n",
       "      <th>2</th>\n",
       "      <td>2000050076866</td>\n",
       "      <td>600903</td>\n",
       "      <td>NaN</td>\n",
       "      <td>Europa</td>\n",
       "      <td>1959.0</td>\n",
       "      <td>73.0</td>\n",
       "      <td>384.0</td>\n",
       "    </tr>\n",
       "    <tr>\n",
       "      <th>3</th>\n",
       "      <td>2000050076866</td>\n",
       "      <td>128236</td>\n",
       "      <td>NaN</td>\n",
       "      <td>Europa</td>\n",
       "      <td>349.0</td>\n",
       "      <td>34.0</td>\n",
       "      <td>102.0</td>\n",
       "    </tr>\n",
       "    <tr>\n",
       "      <th>4</th>\n",
       "      <td>2000050076866</td>\n",
       "      <td>235260</td>\n",
       "      <td>NaN</td>\n",
       "      <td>Europa</td>\n",
       "      <td>20.0</td>\n",
       "      <td>9.0</td>\n",
       "      <td>8.0</td>\n",
       "    </tr>\n",
       "  </tbody>\n",
       "</table>\n",
       "</div>"
      ],
      "text/plain": [
       "         BoardID  UserID PostedInTopic BoardTopic  PostsAmount  \\\n",
       "0  2000050076866   28153           NaN     Europa          4.0   \n",
       "1  2000050076866  215382           NaN     Europa        597.0   \n",
       "2  2000050076866  600903           NaN     Europa       1959.0   \n",
       "3  2000050076866  128236           NaN     Europa        349.0   \n",
       "4  2000050076866  235260           NaN     Europa         20.0   \n",
       "\n",
       "   UniquePostsAmount  MostPopPostsTopicAmount  \n",
       "0                3.0                      2.0  \n",
       "1               58.0                    183.0  \n",
       "2               73.0                    384.0  \n",
       "3               34.0                    102.0  \n",
       "4                9.0                      8.0  "
      ]
     },
     "execution_count": 138,
     "metadata": {},
     "output_type": "execute_result"
    }
   ],
   "source": [
    "dfjj.head()"
   ]
  },
  {
   "cell_type": "code",
   "execution_count": 139,
   "id": "605fd27c-c5b0-49f8-964a-be66d219ae10",
   "metadata": {},
   "outputs": [],
   "source": [
    "dfjj = dfjj[['UserID','PostsAmount','UniquePostsAmount','MostPopPostsTopicAmount']]"
   ]
  },
  {
   "cell_type": "code",
   "execution_count": 141,
   "id": "4e81fcdb-309a-4416-85c8-b6dd7d407b40",
   "metadata": {},
   "outputs": [],
   "source": [
    "dfjj.columns = ['UserID','PostsAmount','TopicsPostedIn','MostPopularTopicPostsAmount']"
   ]
  },
  {
   "cell_type": "code",
   "execution_count": 147,
   "id": "700954ba-45dd-4388-b066-7c0fa965a0f4",
   "metadata": {},
   "outputs": [],
   "source": [
    "dfjj = dfjj.drop_duplicates()"
   ]
  },
  {
   "cell_type": "code",
   "execution_count": 153,
   "id": "d117c585-3df0-46b5-ad2d-0ce993ec4085",
   "metadata": {},
   "outputs": [],
   "source": [
    "dfjj = dfjj.fillna(0)"
   ]
  },
  {
   "cell_type": "code",
   "execution_count": 156,
   "id": "05693a84-a393-4909-9b8a-51a5d15bc779",
   "metadata": {},
   "outputs": [],
   "source": [
    "dfjj.to_parquet('Filtered_Data/user_community_inter.parquet',index=False)"
   ]
  }
 ],
 "metadata": {
  "kernelspec": {
   "display_name": "Python 3 (ipykernel)",
   "language": "python",
   "name": "python3"
  },
  "language_info": {
   "codemirror_mode": {
    "name": "ipython",
    "version": 3
   },
   "file_extension": ".py",
   "mimetype": "text/x-python",
   "name": "python",
   "nbconvert_exporter": "python",
   "pygments_lexer": "ipython3",
   "version": "3.11.10"
  }
 },
 "nbformat": 4,
 "nbformat_minor": 5
}
