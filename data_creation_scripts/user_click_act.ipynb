{
 "cells": [
  {
   "cell_type": "code",
   "execution_count": 1,
   "id": "98302248-c166-4eae-855a-033ef5c289aa",
   "metadata": {},
   "outputs": [],
   "source": [
    "import pandas as pd"
   ]
  },
  {
   "cell_type": "code",
   "execution_count": 8,
   "id": "24038ada-d98d-49e2-b42e-3a07bd456a90",
   "metadata": {},
   "outputs": [
    {
     "data": {
      "text/html": [
       "<div>\n",
       "<style scoped>\n",
       "    .dataframe tbody tr th:only-of-type {\n",
       "        vertical-align: middle;\n",
       "    }\n",
       "\n",
       "    .dataframe tbody tr th {\n",
       "        vertical-align: top;\n",
       "    }\n",
       "\n",
       "    .dataframe thead th {\n",
       "        text-align: right;\n",
       "    }\n",
       "</style>\n",
       "<table border=\"1\" class=\"dataframe\">\n",
       "  <thead>\n",
       "    <tr style=\"text-align: right;\">\n",
       "      <th></th>\n",
       "      <th>ID_CommunityIdentity</th>\n",
       "      <th>Clicks_count_last_900_total_distinct_article_interactions</th>\n",
       "      <th>Clicks_count_last_450_total_distinct_article_interactions</th>\n",
       "      <th>Clicks_count_last_90_total_distinct_article_interactions</th>\n",
       "    </tr>\n",
       "  </thead>\n",
       "  <tbody>\n",
       "    <tr>\n",
       "      <th>0</th>\n",
       "      <td>4</td>\n",
       "      <td>228.0</td>\n",
       "      <td>105.0</td>\n",
       "      <td>178.0</td>\n",
       "    </tr>\n",
       "    <tr>\n",
       "      <th>1</th>\n",
       "      <td>19</td>\n",
       "      <td>225.0</td>\n",
       "      <td>NaN</td>\n",
       "      <td>NaN</td>\n",
       "    </tr>\n",
       "    <tr>\n",
       "      <th>2</th>\n",
       "      <td>30</td>\n",
       "      <td>267.0</td>\n",
       "      <td>166.0</td>\n",
       "      <td>316.0</td>\n",
       "    </tr>\n",
       "    <tr>\n",
       "      <th>3</th>\n",
       "      <td>38</td>\n",
       "      <td>14.0</td>\n",
       "      <td>60.0</td>\n",
       "      <td>317.0</td>\n",
       "    </tr>\n",
       "    <tr>\n",
       "      <th>4</th>\n",
       "      <td>44</td>\n",
       "      <td>NaN</td>\n",
       "      <td>NaN</td>\n",
       "      <td>NaN</td>\n",
       "    </tr>\n",
       "  </tbody>\n",
       "</table>\n",
       "</div>"
      ],
      "text/plain": [
       "   ID_CommunityIdentity  \\\n",
       "0                     4   \n",
       "1                    19   \n",
       "2                    30   \n",
       "3                    38   \n",
       "4                    44   \n",
       "\n",
       "   Clicks_count_last_900_total_distinct_article_interactions  \\\n",
       "0                                              228.0           \n",
       "1                                              225.0           \n",
       "2                                              267.0           \n",
       "3                                               14.0           \n",
       "4                                                NaN           \n",
       "\n",
       "   Clicks_count_last_450_total_distinct_article_interactions  \\\n",
       "0                                              105.0           \n",
       "1                                                NaN           \n",
       "2                                              166.0           \n",
       "3                                               60.0           \n",
       "4                                                NaN           \n",
       "\n",
       "   Clicks_count_last_90_total_distinct_article_interactions  \n",
       "0                                              178.0         \n",
       "1                                                NaN         \n",
       "2                                              316.0         \n",
       "3                                              317.0         \n",
       "4                                                NaN         "
      ]
     },
     "execution_count": 8,
     "metadata": {},
     "output_type": "execute_result"
    }
   ],
   "source": [
    "df = pd.read_parquet('Additional_Data/df_User_Activeness.parquet')\n",
    "df.head()"
   ]
  },
  {
   "cell_type": "code",
   "execution_count": 9,
   "id": "7a0cf83e-59a7-4743-b1ae-9c67aff4783c",
   "metadata": {},
   "outputs": [],
   "source": [
    "df = df[['ID_CommunityIdentity','Clicks_count_last_90_total_distinct_article_interactions']]\n",
    "\n",
    "df.columns = ['UserID','clicks_in_last_90_articles']\n",
    "\n",
    "df.to_parquet('Filtered_Data/user_click_act.parquet',index=False)"
   ]
  }
 ],
 "metadata": {
  "kernelspec": {
   "display_name": "Python 3 (ipykernel)",
   "language": "python",
   "name": "python3"
  },
  "language_info": {
   "codemirror_mode": {
    "name": "ipython",
    "version": 3
   },
   "file_extension": ".py",
   "mimetype": "text/x-python",
   "name": "python",
   "nbconvert_exporter": "python",
   "pygments_lexer": "ipython3",
   "version": "3.11.10"
  }
 },
 "nbformat": 4,
 "nbformat_minor": 5
}
